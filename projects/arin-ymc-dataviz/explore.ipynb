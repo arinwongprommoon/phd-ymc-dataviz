{
 "cells": [
  {
   "cell_type": "markdown",
   "id": "4e2bf967",
   "metadata": {},
   "source": [
    "# Run analysis script\n",
    "\n",
    "This gets variables into namespace."
   ]
  },
  {
   "cell_type": "code",
   "execution_count": null,
   "id": "e5a1f719",
   "metadata": {},
   "outputs": [],
   "source": [
    "%run strain_report_dev.py"
   ]
  },
  {
   "cell_type": "markdown",
   "id": "9661536e",
   "metadata": {},
   "source": [
    "# Imports"
   ]
  },
  {
   "cell_type": "code",
   "execution_count": null,
   "id": "e3604b61",
   "metadata": {},
   "outputs": [],
   "source": [
    "import seaborn as sns\n",
    "from scipy.signal import find_peaks"
   ]
  },
  {
   "cell_type": "markdown",
   "id": "baf8c0a8",
   "metadata": {},
   "source": [
    "# Keys available\n",
    "\n",
    "Print keys available for dataframes in signal collection, in alphabetical order"
   ]
  },
  {
   "cell_type": "code",
   "execution_count": null,
   "id": "86180655",
   "metadata": {},
   "outputs": [],
   "source": [
    "for key in sorted(strain.signals.keys()):\n",
    "    print(key)"
   ]
  },
  {
   "cell_type": "markdown",
   "id": "815418e7",
   "metadata": {},
   "source": [
    "# mCherry"
   ]
  },
  {
   "cell_type": "code",
   "execution_count": null,
   "id": "f8f8ac69",
   "metadata": {},
   "outputs": [],
   "source": [
    "sns.heatmap(strain.signals['mCherry/butter'].dropna().head(25))"
   ]
  },
  {
   "cell_type": "code",
   "execution_count": null,
   "id": "984e20a7",
   "metadata": {},
   "outputs": [],
   "source": [
    "foo = strain.signals['mCherry/butter'].dropna()"
   ]
  },
  {
   "cell_type": "code",
   "execution_count": null,
   "id": "48491317",
   "metadata": {},
   "outputs": [],
   "source": [
    "fig, ax = plt.subplots(figsize=(10,3))\n",
    "plt.plot(foo.iloc[7])"
   ]
  },
  {
   "cell_type": "code",
   "execution_count": null,
   "id": "43594658",
   "metadata": {},
   "outputs": [],
   "source": [
    "foo.iloc[7]"
   ]
  },
  {
   "cell_type": "markdown",
   "id": "94975c94",
   "metadata": {},
   "source": [
    "# Flavin"
   ]
  },
  {
   "cell_type": "markdown",
   "id": "ce9a91cb",
   "metadata": {},
   "source": [
    "## Time series"
   ]
  },
  {
   "cell_type": "code",
   "execution_count": null,
   "id": "0771b27a",
   "metadata": {},
   "outputs": [],
   "source": [
    "sns.heatmap(strain.signals['flavin/butter'], cmap='RdBu', robust=True)"
   ]
  },
  {
   "cell_type": "code",
   "execution_count": null,
   "id": "bd669409",
   "metadata": {},
   "outputs": [],
   "source": [
    "strain.signals['flavin/butter']"
   ]
  },
  {
   "cell_type": "code",
   "execution_count": null,
   "id": "4bbdba16",
   "metadata": {},
   "outputs": [],
   "source": [
    "strain.signals['flavin/butter'].iloc[72]"
   ]
  },
  {
   "cell_type": "code",
   "execution_count": null,
   "id": "7aa4e2c5",
   "metadata": {},
   "outputs": [],
   "source": [
    "sns.heatmap(strain.signals['births'])"
   ]
  },
  {
   "cell_type": "markdown",
   "id": "595dff37",
   "metadata": {},
   "source": [
    "## Autocorrelation"
   ]
  },
  {
   "cell_type": "markdown",
   "id": "8fbafb50",
   "metadata": {},
   "source": [
    "Display from dataframes"
   ]
  },
  {
   "cell_type": "code",
   "execution_count": null,
   "id": "632cf894",
   "metadata": {},
   "outputs": [],
   "source": [
    "# ACFs\n",
    "sns.heatmap(\n",
    "    strain.signals['flavin/butter_acf'].dropna(),\n",
    "    cmap='RdBu',\n",
    "    robust=True\n",
    ")"
   ]
  },
  {
   "cell_type": "code",
   "execution_count": null,
   "id": "349cad9a",
   "metadata": {},
   "outputs": [],
   "source": [
    "sns.heatmap(\n",
    "    wildtype.signals['flavin/butter_acf'].dropna(),\n",
    "    cmap='RdBu',\n",
    "    robust=True\n",
    ")"
   ]
  },
  {
   "cell_type": "markdown",
   "id": "12be955b",
   "metadata": {},
   "source": [
    "Autocorrelation function (ACF) of single time series, and indicating locations of peaks."
   ]
  },
  {
   "cell_type": "code",
   "execution_count": null,
   "id": "f340c5cb",
   "metadata": {},
   "outputs": [],
   "source": [
    "def acorr(y):\n",
    "    \"\"\"Autcorrelation function of single time series\"\"\"\n",
    "    norm = y - np.mean(y)\n",
    "    var = np.var(y)\n",
    "    acorr = np.correlate(norm, norm, 'full')[len(norm)-1:]\n",
    "    acorr = acorr / var / len(norm)\n",
    "    return acorr\n",
    "\n",
    "# Choose cell\n",
    "celliloc = 17\n",
    "\n",
    "timeaxis = wildtype.signals['flavin/butter'].columns\n",
    "flavin_ts = wildtype.signals['flavin/butter'].iloc[celliloc].to_numpy()\n",
    "birth_mask = wildtype.signals['births'].iloc[celliloc].to_numpy()\n",
    "peaks = wildtype.signals['flavin/butter_peaks'].iloc[celliloc].to_numpy()\n",
    "peaks_mask = np.ma.make_mask(peaks)\n",
    "\n",
    "# Plot time series and birth\n",
    "plt.subplots(figsize=(20,5))\n",
    "single_birth_plot(timeaxis, flavin_ts, birth_mask=birth_mask)\n",
    "plt.plot(timeaxis[peaks_mask], flavin_ts[peaks_mask], 'x', color='r')\n",
    "\n",
    "# Plot autocorrelation function, with peaks indicated\n",
    "plt.subplots()\n",
    "acf = acorr(flavin_ts)\n",
    "acf_peaks, _ = find_peaks(acf)\n",
    "plt.plot(acf)\n",
    "plt.plot(acf_peaks, acf[acf_peaks], 'x')\n",
    "\n",
    "print('Location of ACF peaks (hours):')\n",
    "print(acf_peaks/12)\n",
    "print('\\n')\n",
    "print('Location of first ACF peak (hours):')\n",
    "print(f'{acf_peaks[0] / 12:.3f}')"
   ]
  },
  {
   "cell_type": "markdown",
   "id": "8ef5151c",
   "metadata": {},
   "source": [
    "Proxies for synchrony of time series across population"
   ]
  },
  {
   "cell_type": "code",
   "execution_count": null,
   "id": "6b01a638",
   "metadata": {},
   "outputs": [],
   "source": [
    "# Get median of scaled time series in dataset\n",
    "med = standardscaler.as_function(\n",
    "    strain.signals['flavin/butter']).median()\n",
    "\n",
    "plt.subplots()\n",
    "plt.plot(med)\n",
    "plt.title('Median time series')\n",
    "\n",
    "plt.subplots()\n",
    "plt.plot(acorr(med))\n",
    "plt.title('ACF of median time series')\n",
    "plt.xlabel('lag (time point)')\n",
    "plt.ylabel('correlation')\n",
    "\n",
    "fft_freqs, fft_power = fft.as_function(pd.DataFrame(med).T)\n",
    "plt.subplots()\n",
    "plt.plot(fft_freqs.to_numpy()[0], fft_power.to_numpy()[0])\n",
    "plt.title('Fourier spectrum of median time series')\n",
    "plt.xlabel('frequency')\n",
    "plt.ylabel('power')"
   ]
  },
  {
   "cell_type": "markdown",
   "id": "1ba39c62",
   "metadata": {},
   "source": [
    "Peaks in population"
   ]
  },
  {
   "cell_type": "code",
   "execution_count": null,
   "id": "f057db8b",
   "metadata": {},
   "outputs": [],
   "source": [
    "# Find peaks in norm_corr, plot on heatmap\n",
    "from postprocessor.core.processes.findpeaks import findpeaksParameters, findpeaks\n",
    "acfs = strain.signals['flavin/butter_acf'].dropna()\n",
    "acfs_peaks = findpeaks.as_function(acfs, prominence = 0.09)\n",
    "\n",
    "plt.subplots(figsize=(15,15))\n",
    "heatmap(\n",
    "    trace_df=acfs,\n",
    "    trace_name='ACF',\n",
    "    buddings_df=acfs_peaks,\n",
    "    xtick_step=12,\n",
    "    xlabel='Lag (time point)',\n",
    "    cmap='RdBu_r',\n",
    "    cbarlabel='Correlation',\n",
    ")"
   ]
  },
  {
   "cell_type": "code",
   "execution_count": null,
   "id": "0cecd837",
   "metadata": {},
   "outputs": [],
   "source": [
    "# Plot where acf peaks are -- helps with calibrating findpeaks parameters\n",
    "pos = 16\n",
    "plt.plot(acfs.iloc[pos])\n",
    "p_mask = np.ma.make_mask(acfs_peaks.to_numpy())\n",
    "plt.plot(acfs.columns[p_mask[pos]], acfs.iloc[pos][p_mask[pos]], 'x')"
   ]
  },
  {
   "cell_type": "markdown",
   "id": "ea6f466c",
   "metadata": {},
   "source": [
    "Distribution of cycle lengths, estimated from ACF.\n",
    "\n",
    "This is in contrast to using `find_peaks` directly on the time series (flavin, mCherry) and to finding intervals directly from birth times (for CDC lengths)"
   ]
  },
  {
   "cell_type": "code",
   "execution_count": null,
   "id": "4a5a61b2",
   "metadata": {},
   "outputs": [],
   "source": [
    "# get interval lengths then get just the first one\n",
    "# (adapted from first line in mask_to_intervals)\n",
    "temp_df = acfs_peaks.apply(\n",
    "    lambda x: np.diff(np.where(np.array(x) > 0))[0][0], axis=1\n",
    ")\n",
    "\n",
    "# convert from time points to minutes\n",
    "temp_df = temp_df.apply(lambda x: x * 5)\n",
    "\n",
    "# draw histogram\n",
    "binsize = 5\n",
    "plt.hist(\n",
    "    temp_df,\n",
    "    bins=np.arange(min(temp_df), max(temp_df) + binsize, binsize)\n",
    ")\n",
    "plt.title('Distribution of cycle durations')\n",
    "plt.ylabel('Number of occurences')\n",
    "plt.xlabel('Cycle duration (minutes)')\n",
    "plt.xticks(np.arange(0, 400, step=60))"
   ]
  },
  {
   "cell_type": "markdown",
   "id": "56e22b18",
   "metadata": {},
   "source": [
    "# XY coordinates of traps"
   ]
  },
  {
   "cell_type": "code",
   "execution_count": null,
   "id": "0c635772",
   "metadata": {},
   "outputs": [],
   "source": [
    "cell_ids = strain.signals['flavin/butter'].index.to_list()\n",
    "x_coords = []\n",
    "y_coords = []\n",
    "for position, trap, cell_label in cell_ids:\n",
    "    traps = grouper.tilelocs[position]\n",
    "    x_coords.append(traps[trap,0])\n",
    "    y_coords.append(traps[trap,1])"
   ]
  },
  {
   "cell_type": "code",
   "execution_count": null,
   "id": "f5f8ea17",
   "metadata": {},
   "outputs": [],
   "source": [
    "xy_df = pd.DataFrame([x_coords, y_coords])\n",
    "xy_df = xy_df.T\n",
    "xy_df.columns = ['x', 'y']\n",
    "xy_df.index = strain.signals['flavin/butter'].index"
   ]
  },
  {
   "cell_type": "code",
   "execution_count": null,
   "id": "5b7f098d",
   "metadata": {},
   "outputs": [],
   "source": [
    "xy_df"
   ]
  },
  {
   "cell_type": "code",
   "execution_count": null,
   "id": "9ee39a81",
   "metadata": {},
   "outputs": [],
   "source": [
    "xy_df.to_csv('XY_coords.csv', index=True)"
   ]
  }
 ],
 "metadata": {
  "kernelspec": {
   "display_name": "aliby",
   "language": "python",
   "name": "aliby"
  },
  "language_info": {
   "codemirror_mode": {
    "name": "ipython",
    "version": 3
   },
   "file_extension": ".py",
   "mimetype": "text/x-python",
   "name": "python",
   "nbconvert_exporter": "python",
   "pygments_lexer": "ipython3",
   "version": "3.8.13"
  }
 },
 "nbformat": 4,
 "nbformat_minor": 5
}
