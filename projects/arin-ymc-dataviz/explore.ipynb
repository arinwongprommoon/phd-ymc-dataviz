{
 "cells": [
  {
   "cell_type": "code",
   "execution_count": null,
   "id": "e5a1f719",
   "metadata": {},
   "outputs": [],
   "source": [
    "%run strain_report_dev.py"
   ]
  },
  {
   "cell_type": "code",
   "execution_count": null,
   "id": "f8f8ac69",
   "metadata": {},
   "outputs": [],
   "source": [
    "import seaborn as sns\n",
    "sns.heatmap(strain.signals['mCherry/butter'].dropna().head(25))"
   ]
  },
  {
   "cell_type": "code",
   "execution_count": null,
   "id": "984e20a7",
   "metadata": {},
   "outputs": [],
   "source": [
    "foo = strain.signals['mCherry/butter'].dropna()"
   ]
  },
  {
   "cell_type": "code",
   "execution_count": null,
   "id": "48491317",
   "metadata": {},
   "outputs": [],
   "source": [
    "fig, ax = plt.subplots(figsize=(10,3))\n",
    "plt.plot(foo.iloc[7])"
   ]
  },
  {
   "cell_type": "code",
   "execution_count": null,
   "id": "43594658",
   "metadata": {},
   "outputs": [],
   "source": [
    "foo.iloc[7]"
   ]
  },
  {
   "cell_type": "code",
   "execution_count": null,
   "id": "0771b27a",
   "metadata": {},
   "outputs": [],
   "source": [
    "import seaborn as sns\n",
    "sns.heatmap(strain.flavin_processed, cmap='RdBu', robust=True)"
   ]
  },
  {
   "cell_type": "code",
   "execution_count": null,
   "id": "bd669409",
   "metadata": {},
   "outputs": [],
   "source": [
    "strain.flavin_processed"
   ]
  },
  {
   "cell_type": "code",
   "execution_count": null,
   "id": "4bbdba16",
   "metadata": {},
   "outputs": [],
   "source": [
    "strain.flavin_processed.iloc[72]"
   ]
  },
  {
   "cell_type": "code",
   "execution_count": null,
   "id": "e57d0373",
   "metadata": {},
   "outputs": [],
   "source": [
    "import seaborn as sns"
   ]
  },
  {
   "cell_type": "code",
   "execution_count": null,
   "id": "69a9ff5e",
   "metadata": {},
   "outputs": [],
   "source": [
    "sns.heatmap(strain.flavin_processed.iloc[0:100], cmap='RdBu', robust=True)"
   ]
  },
  {
   "cell_type": "code",
   "execution_count": null,
   "id": "78b3daf0",
   "metadata": {},
   "outputs": [],
   "source": [
    "sns.heatmap(strain.flavin_acfs.iloc[0:100], cmap='RdBu', robust=True)"
   ]
  },
  {
   "cell_type": "code",
   "execution_count": null,
   "id": "fda30c76",
   "metadata": {},
   "outputs": [],
   "source": [
    "sns.heatmap(wildtype.flavin_acfs.iloc[0:100], cmap='RdBu', robust=True)"
   ]
  },
  {
   "cell_type": "code",
   "execution_count": null,
   "id": "1e44ae73",
   "metadata": {},
   "outputs": [],
   "source": [
    "sns.clustermap(\n",
    "    strain.flavin_processed,\n",
    "    col_cluster=False,\n",
    "    cmap='RdBu_r',\n",
    "    robust=True,\n",
    ")"
   ]
  },
  {
   "cell_type": "code",
   "execution_count": null,
   "id": "0c39bad3",
   "metadata": {},
   "outputs": [],
   "source": [
    "sns.clustermap(\n",
    "    wildtype.flavin_processed,\n",
    "    col_cluster=False,\n",
    "    cmap='RdBu_r',\n",
    "    robust=True,\n",
    ")"
   ]
  },
  {
   "cell_type": "code",
   "execution_count": null,
   "id": "5cb34840",
   "metadata": {},
   "outputs": [],
   "source": [
    "import pandas as pd\n",
    "row_colors = 'r' * len(wildtype.flavin_processed) + 'b' * len(strain.flavin_processed)\n",
    "#bodge\n",
    "s = strain.flavin_processed\n",
    "s.columns = wildtype.flavin_processed.columns\n",
    "sns.clustermap(\n",
    "    pd.concat([wildtype.flavin_processed, s], axis=0, ignore_index=True),\n",
    "    col_cluster=False,\n",
    "    cmap='RdBu_r',\n",
    "    robust=True,\n",
    "    row_colors=row_colors,\n",
    ")"
   ]
  },
  {
   "cell_type": "code",
   "execution_count": null,
   "id": "d285e9d0",
   "metadata": {},
   "outputs": [],
   "source": [
    "strain.flavin_processed"
   ]
  },
  {
   "cell_type": "code",
   "execution_count": null,
   "id": "7aa4e2c5",
   "metadata": {},
   "outputs": [],
   "source": [
    "#sns.heatmap(signal_births_processed.iloc[0:50])\n",
    "sns.heatmap(strain.births_processed)"
   ]
  },
  {
   "cell_type": "code",
   "execution_count": null,
   "id": "f340c5cb",
   "metadata": {},
   "outputs": [],
   "source": [
    "celliloc = 27\n",
    "t = wildtype.flavin_processed.columns\n",
    "y = wildtype.flavin_processed.iloc[celliloc].to_numpy()\n",
    "b = wildtype.births_processed.iloc[celliloc].to_numpy()\n",
    "p = wildtype.peaks.iloc[celliloc].to_numpy()\n",
    "p_mask = np.ma.make_mask(p)\n",
    "\n",
    "def acorr(y):\n",
    "    norm = y - np.mean(y)\n",
    "    var = np.var(y)\n",
    "    acorr = np.correlate(norm, norm, 'full')[len(norm)-1:]\n",
    "    acorr = acorr / var / len(norm)\n",
    "    return acorr\n",
    "\n",
    "plt.subplots(figsize=(20,5))\n",
    "#plt.plot(y)\n",
    "single_birth_plot(t, y, birth_mask=b)\n",
    "plt.plot(t[p_mask], y[p_mask], 'x', color='r')\n",
    "\n",
    "plt.subplots()\n",
    "from scipy.signal import find_peaks\n",
    "a = acorr(y)\n",
    "acorr_peaks, _ = find_peaks(a)\n",
    "plt.plot(a)\n",
    "plt.plot(acorr_peaks, a[acorr_peaks], 'x')\n",
    "\n",
    "print(acorr_peaks)\n",
    "print(acorr_peaks[0] / 12)"
   ]
  },
  {
   "cell_type": "code",
   "execution_count": null,
   "id": "4cc6d003",
   "metadata": {},
   "outputs": [],
   "source": [
    "5/60 * mask_to_intervals(pd.DataFrame(b).T)"
   ]
  },
  {
   "cell_type": "code",
   "execution_count": null,
   "id": "25c561be",
   "metadata": {},
   "outputs": [],
   "source": [
    "acorr_peaks / 12"
   ]
  },
  {
   "cell_type": "code",
   "execution_count": null,
   "id": "1bab476f",
   "metadata": {},
   "outputs": [],
   "source": [
    "sns.heatmap(signal_births_processed)"
   ]
  },
  {
   "cell_type": "code",
   "execution_count": null,
   "id": "d39a56b6",
   "metadata": {},
   "outputs": [],
   "source": [
    "sns.heatmap(signal_peaks)"
   ]
  },
  {
   "cell_type": "code",
   "execution_count": null,
   "id": "6b01a638",
   "metadata": {},
   "outputs": [],
   "source": [
    "# Proxies for synchrony\n",
    "med = standardscaler.as_function(signal_flavin_processed).median()\n",
    "\n",
    "plt.subplots()\n",
    "plt.plot(med)\n",
    "plt.title('median time series')\n",
    "\n",
    "plt.subplots()\n",
    "plt.plot(acorr(med))\n",
    "plt.title('autocorrelation')\n",
    "plt.xlabel('lag')\n",
    "plt.ylabel('corr')\n",
    "\n",
    "fft_freqs, fft_power = fft.as_function(pd.DataFrame(med).T)\n",
    "plt.subplots()\n",
    "plt.plot(fft_freqs.to_numpy()[0], fft_power.to_numpy()[0])\n",
    "plt.title('fourier spectrum')\n",
    "plt.xlabel('freq')\n",
    "plt.ylabel('power')"
   ]
  },
  {
   "cell_type": "code",
   "execution_count": null,
   "id": "d52b1639",
   "metadata": {},
   "outputs": [],
   "source": [
    "# Auto-correlation"
   ]
  },
  {
   "cell_type": "code",
   "execution_count": null,
   "id": "f057db8b",
   "metadata": {},
   "outputs": [],
   "source": [
    "# Find peaks in norm_corr, plot on heatmap\n",
    "from postprocessor.core.processes.findpeaks import findpeaksParameters, findpeaks\n",
    "p = findpeaks.as_function(norm_corr, prominence = 0.09)\n",
    "\n",
    "plt.subplots(figsize=(15,15))\n",
    "heatmap(p, 'peak', xtick_step=12, xlabel='tp lag')"
   ]
  },
  {
   "cell_type": "code",
   "execution_count": null,
   "id": "0cecd837",
   "metadata": {},
   "outputs": [],
   "source": [
    "# Plot where acf peaks are -- helps with calibrating findpeaks parameters\n",
    "pos = 16\n",
    "plt.plot(norm_corr.iloc[pos])\n",
    "p_mask = np.ma.make_mask(p.to_numpy())\n",
    "plt.plot(norm_corr.columns[p_mask[pos]], norm_corr.iloc[pos][p_mask[pos]], 'x')"
   ]
  },
  {
   "cell_type": "code",
   "execution_count": null,
   "id": "4a5a61b2",
   "metadata": {},
   "outputs": [],
   "source": [
    "# Distribution of cycle lengths, estimated from acf\n",
    "\n",
    "# get interval lengths then get just the first one\n",
    "# (adapted from first line in mask_to_intervals)\n",
    "temp_df = p.apply(lambda x: np.diff(np.where(np.array(x) > 0))[0][0], axis=1)\n",
    "# convert from time points to minutes\n",
    "temp_df = temp_df.apply(lambda x: x * 5)\n",
    "# histogram\n",
    "binsize = 5\n",
    "plt.hist(temp_df, bins=np.arange(min(temp_df), max(temp_df) + binsize, binsize))"
   ]
  },
  {
   "cell_type": "markdown",
   "id": "56e22b18",
   "metadata": {},
   "source": [
    "XY coords of traps"
   ]
  },
  {
   "cell_type": "code",
   "execution_count": null,
   "id": "f0513428",
   "metadata": {},
   "outputs": [],
   "source": [
    "strain.signals['flavin/butter']"
   ]
  },
  {
   "cell_type": "code",
   "execution_count": null,
   "id": "0c635772",
   "metadata": {},
   "outputs": [],
   "source": [
    "cell_ids = strain.signals['flavin/butter'].index.to_list()\n",
    "x_coords = []\n",
    "y_coords = []\n",
    "for position, trap, cell_label in cell_ids:\n",
    "    traps = grouper.tilelocs[position]\n",
    "    x_coords.append(traps[trap,0])\n",
    "    y_coords.append(traps[trap,1])"
   ]
  },
  {
   "cell_type": "code",
   "execution_count": null,
   "id": "f5f8ea17",
   "metadata": {},
   "outputs": [],
   "source": [
    "xy_df = pd.DataFrame([x_coords, y_coords])\n",
    "xy_df = xy_df.T\n",
    "xy_df.columns = ['x', 'y']\n",
    "xy_df.index = strain.signals['flavin/butter'].index"
   ]
  },
  {
   "cell_type": "code",
   "execution_count": null,
   "id": "5b7f098d",
   "metadata": {},
   "outputs": [],
   "source": [
    "xy_df"
   ]
  },
  {
   "cell_type": "code",
   "execution_count": null,
   "id": "9ee39a81",
   "metadata": {},
   "outputs": [],
   "source": [
    "xy_df.to_csv('20016_by4741_XYcoordinates.csv', index=True)"
   ]
  }
 ],
 "metadata": {
  "kernelspec": {
   "display_name": "aliby",
   "language": "python",
   "name": "aliby"
  },
  "language_info": {
   "codemirror_mode": {
    "name": "ipython",
    "version": 3
   },
   "file_extension": ".py",
   "mimetype": "text/x-python",
   "name": "python",
   "nbconvert_exporter": "python",
   "pygments_lexer": "ipython3",
   "version": "3.8.13"
  }
 },
 "nbformat": 4,
 "nbformat_minor": 5
}
