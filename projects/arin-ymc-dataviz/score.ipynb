{
 "cells": [
  {
   "cell_type": "code",
   "execution_count": null,
   "id": "743259d4",
   "metadata": {},
   "outputs": [],
   "source": [
    "%run strain_report_dev.py"
   ]
  },
  {
   "cell_type": "code",
   "execution_count": null,
   "id": "9d60bc0b",
   "metadata": {},
   "outputs": [],
   "source": [
    "strain.signals['flavin/butter']"
   ]
  },
  {
   "cell_type": "code",
   "execution_count": null,
   "id": "0be05a3f",
   "metadata": {},
   "outputs": [],
   "source": [
    "strain.signals['flavin/butter'].to_csv('20016_by4741_timeseries.csv', index=True)"
   ]
  },
  {
   "cell_type": "code",
   "execution_count": null,
   "id": "bb33a3ae",
   "metadata": {},
   "outputs": [],
   "source": [
    "strain.signals['births']"
   ]
  },
  {
   "cell_type": "code",
   "execution_count": null,
   "id": "27352030",
   "metadata": {},
   "outputs": [],
   "source": [
    "def acorr(y):\n",
    "    norm = y - np.mean(y)\n",
    "    var = np.var(y)\n",
    "    acorr = np.correlate(norm, norm, 'full')[len(norm)-1:]\n",
    "    acorr = acorr / var / len(norm)\n",
    "    return acorr"
   ]
  },
  {
   "cell_type": "code",
   "execution_count": null,
   "id": "e26c07ed",
   "metadata": {},
   "outputs": [],
   "source": [
    "timeaxis = strain.signals['flavin/butter'].columns\n",
    "\n",
    "category_list = []\n",
    "for multiindex, timeseries in strain.signals['flavin/butter'].iterrows():\n",
    "    print(multiindex)\n",
    "    # trace & births\n",
    "    try:\n",
    "        birth_mask = strain.signals['births'].loc[multiindex,:].to_numpy()\n",
    "    except:\n",
    "        birth_mask = np.zeros(len(timeseries))\n",
    "    plt.subplots(figsize=(20,5))\n",
    "    single_birth_plot(timeaxis, timeseries, birth_mask=birth_mask)\n",
    "    # acf\n",
    "    acf = acorr(timeseries)\n",
    "    plt.subplots()\n",
    "    plt.plot(acf)\n",
    "    # prompt\n",
    "    plt.show(block=False)\n",
    "    category = input('Is this oscillatory?')\n",
    "    category_list.append(category)"
   ]
  },
  {
   "cell_type": "code",
   "execution_count": null,
   "id": "03ad0031",
   "metadata": {},
   "outputs": [],
   "source": [
    "import pandas as pd\n",
    "filename_category = experimentID + '_' + strain_name + '_labels.csv'\n",
    "category_df = pd.DataFrame(category_list, index = strain.signals['flavin/butter'].index)\n",
    "category_df.to_csv(filename_category, index=True)"
   ]
  }
 ],
 "metadata": {
  "kernelspec": {
   "display_name": "aliby",
   "language": "python",
   "name": "aliby"
  },
  "language_info": {
   "codemirror_mode": {
    "name": "ipython",
    "version": 3
   },
   "file_extension": ".py",
   "mimetype": "text/x-python",
   "name": "python",
   "nbconvert_exporter": "python",
   "pygments_lexer": "ipython3",
   "version": "3.8.13"
  }
 },
 "nbformat": 4,
 "nbformat_minor": 5
}
